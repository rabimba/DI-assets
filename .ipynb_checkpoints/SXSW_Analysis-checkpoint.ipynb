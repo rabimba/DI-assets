{
 "cells": [
  {
   "cell_type": "markdown",
   "metadata": {},
   "source": [
    "# SXSW 2017 Diversity Analysis\n"
   ]
  },
  {
   "cell_type": "markdown",
   "metadata": {},
   "source": [
    "## Objective\n",
    "**How diverse is SXSW really?**\n",
    "## Methodology\n",
    "* Data collecting - \n",
    "    * Used selenium and python to scrape all session and speaker pages from SXSW schedule. Collected the following about speakers - url, name, title, company, bio. Collected the following about sessions - title, speaker urls, description\n",
    "* Data munging - \n",
    "    * Ran a word frequency analysis on bios and positions to determine which words to create inference algorithm around to classify speakers’ gender and position level.\n",
    "    * Wrote inference algorithm around position level. Categorized about 600/3200 manually.\n",
    "    * Used a combination of tenderizer python library (https://pypi.python.org/pypi/genderizer/0.1.2.3) and gender inference to figure out gender. Looked up and filled in 103 manually. resulted in 92% of speakers categorized into gender programmatically \n",
    "    * Text analytics on session description to determine topic of session (run word frequency, create boolean for most popular topics and categorize) "
   ]
  },
  {
   "cell_type": "markdown",
   "metadata": {},
   "source": [
    "## Data Exploration\n",
    "What is the distribution of speaker position level, speaker gender, and session topic?"
   ]
  },
  {
   "cell_type": "code",
   "execution_count": 2,
   "metadata": {},
   "outputs": [
    {
     "name": "stdout",
     "output_type": "stream",
     "text": [
      "Populating the interactive namespace from numpy and matplotlib\n"
     ]
    }
   ],
   "source": [
    "# Setting up file for analysis\n",
    "from pandas import Series, DataFrame\n",
    "import pandas as pd\n",
    "import numpy as np\n",
    "%pylab inline\n",
    "\n",
    "# Import session and speaker information\n",
    "session_data = pd.read_csv(\"SXSW_2017_Sessions_Text_Mining.tsv\",sep=\"\\t\",)\n",
    "speaker_data = pd.read_csv(\"SXSW_2017_Speakers_Text_Mining.tsv\", sep = \"\\t\")\n",
    "\n",
    "my_colors = [(0.46,0.34,0.89), (0.56, .64, .62)]"
   ]
  },
  {
   "cell_type": "markdown",
   "metadata": {},
   "source": [
    "### Join session and speaker information on speaker_url"
   ]
  },
  {
   "cell_type": "code",
   "execution_count": 3,
   "metadata": {},
   "outputs": [],
   "source": [
    "sxsw_data_1 = pd.merge(speaker_data, session_data, left_on = 'link', right_on = 'speaker_1', left_index = False, right_index = False)\n",
    "sxsw_data_2 = pd.merge(speaker_data, session_data, left_on = 'link', right_on = 'speaker_2', left_index = False, right_index = False)\n",
    "sxsw_data_3 = pd.merge(speaker_data, session_data, left_on = 'link', right_on = 'speaker_3', left_index = False, right_index = False)\n",
    "sxsw_data_4 = pd.merge(speaker_data, session_data, left_on = 'link', right_on = 'speaker_4', left_index = False, right_index = False)\n",
    "sxsw_data_5 = pd.merge(speaker_data, session_data, left_on = 'link', right_on = 'speaker_5', left_index = False, right_index = False)\n",
    "sxsw_data_6 = pd.merge(speaker_data, session_data, left_on = 'link', right_on = 'speaker_6', left_index = False, right_index = False)\n",
    "\n",
    "sxsw_data = pd.concat([sxsw_data_1, sxsw_data_2, sxsw_data_3, sxsw_data_4, sxsw_data_5, sxsw_data_6], ignore_index = True)\n",
    "header_names = ['link', 'name', 'position', 'company', 'bio', 'position_level',\n",
    "       'gender', 'session_link', 'session_title', 'session_desc',\n",
    "       'speaker_1', 'speaker_2', 'speaker_3', 'speaker_4', 'speaker_5',\n",
    "       'speaker_6', 'mentor', 'music', 'tech_general', 'high_tech',\n",
    "       'design', 'vr', 'ai', 'film', 'health', 'marketing', 'women',\n",
    "       'fashion', 'business', 'food', 'sports', 'cannabis', 'social',\n",
    "       'data', 'gaming', 'millennial']"
   ]
  },
  {
   "cell_type": "markdown",
   "metadata": {},
   "source": [
    "### Plot distribution of gender"
   ]
  },
  {
   "cell_type": "code",
   "execution_count": 4,
   "metadata": {},
   "outputs": [
    {
     "name": "stdout",
     "output_type": "stream",
     "text": [
      "female    1651\n",
      "male      1593\n",
      "Name: gender, dtype: int64\n"
     ]
    }
   ],
   "source": [
    "gender = speaker_data['gender'].value_counts()\n",
    "print gender"
   ]
  },
  {
   "cell_type": "code",
   "execution_count": 5,
   "metadata": {},
   "outputs": [
    {
     "data": {
      "text/plain": [
       "<matplotlib.axes._subplots.AxesSubplot at 0x1022a4610>"
      ]
     },
     "execution_count": 5,
     "metadata": {},
     "output_type": "execute_result"
    },
    {
     "data": {
      "image/png": "[encoded data removed]",
      "text/plain": [
       "<matplotlib.figure.Figure at 0x10a4b8090>"
      ]
     },
     "metadata": {},
     "output_type": "display_data"
    }
   ],
   "source": [
    "gender.plot(kind = 'bar', title = \"Gender\", color = my_colors)"
   ]
  },
  {
   "cell_type": "markdown",
   "metadata": {},
   "source": [
    "### Plot distribution of position level"
   ]
  },
  {
   "cell_type": "code",
   "execution_count": 6,
   "metadata": {},
   "outputs": [
    {
     "data": {
      "text/plain": [
       "<matplotlib.axes._subplots.AxesSubplot at 0x10aea5890>"
      ]
     },
     "execution_count": 6,
     "metadata": {},
     "output_type": "execute_result"
    },
    {
     "data": {
      "image/png": "[encoded data removed]",
      "text/plain": [
       "<matplotlib.figure.Figure at 0x10aec2c90>"
      ]
     },
     "metadata": {},
     "output_type": "display_data"
    }
   ],
   "source": [
    "pos = speaker_data['position_level'].value_counts()\n",
    "pos.plot(kind = 'bar', title = 'Position Level', color = my_colors)"
   ]
  },
  {
   "cell_type": "markdown",
   "metadata": {},
   "source": [
    "### Plot distribution of topics"
   ]
  },
  {
   "cell_type": "code",
   "execution_count": 7,
   "metadata": {},
   "outputs": [
    {
     "data": {
      "text/plain": [
       "<matplotlib.axes._subplots.AxesSubplot at 0x10af0f950>"
      ]
     },
     "execution_count": 7,
     "metadata": {},
     "output_type": "execute_result"
    },
    {
     "data": {
      "image/png": "[encoded data removed]",
      "text/plain": [
       "<matplotlib.figure.Figure at 0x10e486790>"
      ]
     },
     "metadata": {},
     "output_type": "display_data"
    }
   ],
   "source": [
    "topic_series = session_data.mean()\n",
    "topic_series = topic_series.drop('speaker_6')\n",
    "topic_series.plot(kind = 'bar', title = 'Distribution of Topics at SXSW 2017', color = my_colors)"
   ]
  },
  {
   "cell_type": "markdown",
   "metadata": {},
   "source": [
    "### Plot distribution of gender across topics"
   ]
  },
  {
   "cell_type": "code",
   "execution_count": 8,
   "metadata": {},
   "outputs": [
    {
     "data": {
      "text/plain": [
       "<matplotlib.axes._subplots.AxesSubplot at 0x10a36e910>"
      ]
     },
     "execution_count": 8,
     "metadata": {},
     "output_type": "execute_result"
    },
    {
     "data": {
      "image/png": "[encoded data removed]",
      "text/plain": [
       "<matplotlib.figure.Figure at 0x10e500810>"
      ]
     },
     "metadata": {},
     "output_type": "display_data"
    }
   ],
   "source": [
    "# Create dataframe of index = topic, female count, male count\n",
    "topics_by_gender = DataFrame()\n",
    "for h in header_names[16:]:\n",
    "    # create a mask and select a sub dataframe for that topic being true\n",
    "    topic = sxsw_data[sxsw_data[h] == True]\n",
    "    topics_by_gender = topics_by_gender.append(topic['gender'].value_counts())\n",
    "\n",
    "topics_by_gender['topic'] = pd.Series(header_names[16:], index = topics_by_gender.index)\n",
    "topics_by_gender = topics_by_gender.set_index('topic')\n",
    "topics_by_gender.plot(kind = 'bar', title = \"Distribution of Gender Across Topics\", stacked=True, color = my_colors)"
   ]
  },
  {
   "cell_type": "code",
   "execution_count": 9,
   "metadata": {},
   "outputs": [
    {
     "data": {
      "text/html": [
       "<div>\n",
       "<table border=\"1\" class=\"dataframe\">\n",
       "  <thead>\n",
       "    <tr style=\"text-align: right;\">\n",
       "      <th></th>\n",
       "      <th>female</th>\n",
       "      <th>male</th>\n",
       "      <th>perc_female</th>\n",
       "      <th>perc_male</th>\n",
       "      <th>diff_perc_female_vs_male</th>\n",
       "    </tr>\n",
       "    <tr>\n",
       "      <th>topic</th>\n",
       "      <th></th>\n",
       "      <th></th>\n",
       "      <th></th>\n",
       "      <th></th>\n",
       "      <th></th>\n",
       "    </tr>\n",
       "  </thead>\n",
       "  <tbody>\n",
       "    <tr>\n",
       "      <th>mentor</th>\n",
       "      <td>101.0</td>\n",
       "      <td>104.0</td>\n",
       "      <td>49.268293</td>\n",
       "      <td>50.731707</td>\n",
       "      <td>-1.463415</td>\n",
       "    </tr>\n",
       "    <tr>\n",
       "      <th>music</th>\n",
       "      <td>326.0</td>\n",
       "      <td>330.0</td>\n",
       "      <td>49.695122</td>\n",
       "      <td>50.304878</td>\n",
       "      <td>-0.609756</td>\n",
       "    </tr>\n",
       "    <tr>\n",
       "      <th>tech_general</th>\n",
       "      <td>532.0</td>\n",
       "      <td>549.0</td>\n",
       "      <td>49.213691</td>\n",
       "      <td>50.786309</td>\n",
       "      <td>-1.572618</td>\n",
       "    </tr>\n",
       "    <tr>\n",
       "      <th>high_tech</th>\n",
       "      <td>163.0</td>\n",
       "      <td>233.0</td>\n",
       "      <td>41.161616</td>\n",
       "      <td>58.838384</td>\n",
       "      <td>-17.676768</td>\n",
       "    </tr>\n",
       "    <tr>\n",
       "      <th>design</th>\n",
       "      <td>232.0</td>\n",
       "      <td>200.0</td>\n",
       "      <td>53.703704</td>\n",
       "      <td>46.296296</td>\n",
       "      <td>7.407407</td>\n",
       "    </tr>\n",
       "    <tr>\n",
       "      <th>vr</th>\n",
       "      <td>80.0</td>\n",
       "      <td>120.0</td>\n",
       "      <td>40.000000</td>\n",
       "      <td>60.000000</td>\n",
       "      <td>-20.000000</td>\n",
       "    </tr>\n",
       "    <tr>\n",
       "      <th>ai</th>\n",
       "      <td>103.0</td>\n",
       "      <td>131.0</td>\n",
       "      <td>44.017094</td>\n",
       "      <td>55.982906</td>\n",
       "      <td>-11.965812</td>\n",
       "    </tr>\n",
       "    <tr>\n",
       "      <th>film</th>\n",
       "      <td>219.0</td>\n",
       "      <td>201.0</td>\n",
       "      <td>52.142857</td>\n",
       "      <td>47.857143</td>\n",
       "      <td>4.285714</td>\n",
       "    </tr>\n",
       "    <tr>\n",
       "      <th>health</th>\n",
       "      <td>168.0</td>\n",
       "      <td>144.0</td>\n",
       "      <td>53.846154</td>\n",
       "      <td>46.153846</td>\n",
       "      <td>7.692308</td>\n",
       "    </tr>\n",
       "    <tr>\n",
       "      <th>marketing</th>\n",
       "      <td>446.0</td>\n",
       "      <td>478.0</td>\n",
       "      <td>48.268398</td>\n",
       "      <td>51.731602</td>\n",
       "      <td>-3.463203</td>\n",
       "    </tr>\n",
       "    <tr>\n",
       "      <th>women</th>\n",
       "      <td>171.0</td>\n",
       "      <td>19.0</td>\n",
       "      <td>90.000000</td>\n",
       "      <td>10.000000</td>\n",
       "      <td>80.000000</td>\n",
       "    </tr>\n",
       "    <tr>\n",
       "      <th>fashion</th>\n",
       "      <td>66.0</td>\n",
       "      <td>31.0</td>\n",
       "      <td>68.041237</td>\n",
       "      <td>31.958763</td>\n",
       "      <td>36.082474</td>\n",
       "    </tr>\n",
       "    <tr>\n",
       "      <th>business</th>\n",
       "      <td>380.0</td>\n",
       "      <td>400.0</td>\n",
       "      <td>48.717949</td>\n",
       "      <td>51.282051</td>\n",
       "      <td>-2.564103</td>\n",
       "    </tr>\n",
       "    <tr>\n",
       "      <th>food</th>\n",
       "      <td>67.0</td>\n",
       "      <td>51.0</td>\n",
       "      <td>56.779661</td>\n",
       "      <td>43.220339</td>\n",
       "      <td>13.559322</td>\n",
       "    </tr>\n",
       "    <tr>\n",
       "      <th>sports</th>\n",
       "      <td>42.0</td>\n",
       "      <td>71.0</td>\n",
       "      <td>37.168142</td>\n",
       "      <td>62.831858</td>\n",
       "      <td>-25.663717</td>\n",
       "    </tr>\n",
       "    <tr>\n",
       "      <th>cannabis</th>\n",
       "      <td>26.0</td>\n",
       "      <td>22.0</td>\n",
       "      <td>54.166667</td>\n",
       "      <td>45.833333</td>\n",
       "      <td>8.333333</td>\n",
       "    </tr>\n",
       "    <tr>\n",
       "      <th>social</th>\n",
       "      <td>289.0</td>\n",
       "      <td>236.0</td>\n",
       "      <td>55.047619</td>\n",
       "      <td>44.952381</td>\n",
       "      <td>10.095238</td>\n",
       "    </tr>\n",
       "    <tr>\n",
       "      <th>data</th>\n",
       "      <td>156.0</td>\n",
       "      <td>148.0</td>\n",
       "      <td>51.315789</td>\n",
       "      <td>48.684211</td>\n",
       "      <td>2.631579</td>\n",
       "    </tr>\n",
       "    <tr>\n",
       "      <th>gaming</th>\n",
       "      <td>88.0</td>\n",
       "      <td>79.0</td>\n",
       "      <td>52.694611</td>\n",
       "      <td>47.305389</td>\n",
       "      <td>5.389222</td>\n",
       "    </tr>\n",
       "    <tr>\n",
       "      <th>millennial</th>\n",
       "      <td>53.0</td>\n",
       "      <td>24.0</td>\n",
       "      <td>68.831169</td>\n",
       "      <td>31.168831</td>\n",
       "      <td>37.662338</td>\n",
       "    </tr>\n",
       "  </tbody>\n",
       "</table>\n",
       "</div>"
      ],
      "text/plain": [
       "              female   male  perc_female  perc_male  diff_perc_female_vs_male\n",
       "topic                                                                        \n",
       "mentor         101.0  104.0    49.268293  50.731707                 -1.463415\n",
       "music          326.0  330.0    49.695122  50.304878                 -0.609756\n",
       "tech_general   532.0  549.0    49.213691  50.786309                 -1.572618\n",
       "high_tech      163.0  233.0    41.161616  58.838384                -17.676768\n",
       "design         232.0  200.0    53.703704  46.296296                  7.407407\n",
       "vr              80.0  120.0    40.000000  60.000000                -20.000000\n",
       "ai             103.0  131.0    44.017094  55.982906                -11.965812\n",
       "film           219.0  201.0    52.142857  47.857143                  4.285714\n",
       "health         168.0  144.0    53.846154  46.153846                  7.692308\n",
       "marketing      446.0  478.0    48.268398  51.731602                 -3.463203\n",
       "women          171.0   19.0    90.000000  10.000000                 80.000000\n",
       "fashion         66.0   31.0    68.041237  31.958763                 36.082474\n",
       "business       380.0  400.0    48.717949  51.282051                 -2.564103\n",
       "food            67.0   51.0    56.779661  43.220339                 13.559322\n",
       "sports          42.0   71.0    37.168142  62.831858                -25.663717\n",
       "cannabis        26.0   22.0    54.166667  45.833333                  8.333333\n",
       "social         289.0  236.0    55.047619  44.952381                 10.095238\n",
       "data           156.0  148.0    51.315789  48.684211                  2.631579\n",
       "gaming          88.0   79.0    52.694611  47.305389                  5.389222\n",
       "millennial      53.0   24.0    68.831169  31.168831                 37.662338"
      ]
     },
     "execution_count": 9,
     "metadata": {},
     "output_type": "execute_result"
    }
   ],
   "source": [
    "# Expansion of the topics by gender dataframe to include percentiles\n",
    "topics_by_gender['perc_female'] = topics_by_gender['female'] / (topics_by_gender['female'] + topics_by_gender['male'])*100\n",
    "topics_by_gender['perc_male'] = topics_by_gender['male'] / (topics_by_gender['female'] + topics_by_gender['male'])*100\n",
    "topics_by_gender['diff_perc_female_vs_male'] = topics_by_gender['perc_female'] - topics_by_gender['perc_male']\n",
    "topics_by_gender"
   ]
  },
  {
   "cell_type": "code",
   "execution_count": 10,
   "metadata": {},
   "outputs": [
    {
     "data": {
      "text/plain": [
       "<matplotlib.axes._subplots.AxesSubplot at 0x10aee0050>"
      ]
     },
     "execution_count": 10,
     "metadata": {},
     "output_type": "execute_result"
    },
    {
     "data": {
      "image/png": "[encoded data removed]",
      "text/plain": [
       "<matplotlib.figure.Figure at 0x10a759e50>"
      ]
     },
     "metadata": {},
     "output_type": "display_data"
    }
   ],
   "source": [
    "topics_by_gender.plot(kind='bar', y=['perc_male','perc_female'], \n",
    "                      title = \"Percentage Distribution of Genders Across Topics\", color = my_colors)"
   ]
  },
  {
   "cell_type": "markdown",
   "metadata": {},
   "source": [
    "## Chi-Squared Test of Independence on the topics with high differences in percentages\n",
    "The following topics are heavily dominated by women - \n",
    "* Women\n",
    "* Fashion\n",
    "* Millennials\n",
    "* Food\n",
    "* Health\n",
    "* Cannabis\n",
    "\n",
    "The following topics are heavily dominated by men - \n",
    "* General Tech (slightly, but significant for being top category)\n",
    "* High Tech\n",
    "* VR\n",
    "* Sports\n",
    "\n",
    "What's the chance that these differences are due to chance? Chi-squared tests for each topic below."
   ]
  },
  {
   "cell_type": "code",
   "execution_count": 11,
   "metadata": {},
   "outputs": [
    {
     "name": "stdout",
     "output_type": "stream",
     "text": [
      "Tech General:  Power_divergenceResult(statistic=10.80722302885825, pvalue=0.001011048457025819)\n",
      "High Tech:  Power_divergenceResult(statistic=16.223874361666731, pvalue=5.6280360063970599e-05)\n",
      "VR:  Power_divergenceResult(statistic=12.709980026942523, pvalue=0.00036370931232956204)\n",
      "Sports:  Power_divergenceResult(statistic=13.745109705159086, pvalue=0.00020936518308604327)\n",
      "Women:  Power_divergenceResult(statistic=140.95401276709163, pvalue=1.6466378133007184e-32)\n",
      "Fashion:  Power_divergenceResult(statistic=14.447607147387648, pvalue=0.00014411283171385787)\n",
      "Millennial:  Power_divergenceResult(statistic=15.173635743380833, pvalue=9.8063048951523403e-05)\n",
      "Food:  Power_divergenceResult(statistic=10.773267585358875, pvalue=0.0010297655386154582)\n",
      "Health:  Power_divergenceResult(statistic=6.9443092140406524, pvalue=0.0084086302235187073)\n",
      "Cannabis:  Power_divergenceResult(statistic=6.2663615670922521, pvalue=0.012305156994668756)\n"
     ]
    }
   ],
   "source": [
    "from scipy import stats as stat\n",
    "\n",
    "# do chi squared for tech_general\n",
    "observed = [topics_by_gender['male']['tech_general'], topics_by_gender['female']['tech_general']]\n",
    "expected = [gender['male'] * topic_series['tech_general'], gender['female'] * topic_series['tech_general']]\n",
    "print \"Tech General: \", stat.chisquare(observed, expected)\n",
    "\n",
    "# do chi squared for high tech\n",
    "observed = [topics_by_gender['male']['high_tech'], topics_by_gender['female']['high_tech']]\n",
    "expected = [gender['male'] * topic_series['high_tech'], gender['female'] * topic_series['high_tech']]\n",
    "print \"High Tech: \", stat.chisquare(observed, expected)\n",
    "\n",
    "# do chi squared for VR\n",
    "observed = [topics_by_gender['male']['vr'], topics_by_gender['female']['vr']]\n",
    "expected = [gender['male'] * topic_series['vr'], gender['female'] * topic_series['vr']]\n",
    "print \"VR: \", stat.chisquare(observed, expected)\n",
    "\n",
    "# do chi squared for sports\n",
    "observed = [topics_by_gender['male']['sports'], topics_by_gender['female']['sports']]\n",
    "expected = [gender['male'] * topic_series['sports'], gender['female'] * topic_series['sports']]\n",
    "print \"Sports: \", stat.chisquare(observed, expected)\n",
    "\n",
    "# do chi squared for women\n",
    "observed = [topics_by_gender['male']['women'], topics_by_gender['female']['women']]\n",
    "expected = [gender['male'] * topic_series['women'], gender['female'] * topic_series['women']]\n",
    "print \"Women: \", stat.chisquare(observed, expected)\n",
    "\n",
    "# do chi squared for Fashion\n",
    "observed = [topics_by_gender['male']['fashion'], topics_by_gender['female']['fashion']]\n",
    "expected = [gender['male'] * topic_series['fashion'], gender['female'] * topic_series['fashion']]\n",
    "print \"Fashion: \", stat.chisquare(observed, expected)\n",
    "\n",
    "# do chi squared for Millennials\n",
    "observed = [topics_by_gender['male']['millennial'], topics_by_gender['female']['millennial']]\n",
    "expected = [gender['male'] * topic_series['millennial'], gender['female'] * topic_series['millennial']]\n",
    "print \"Millennial: \", stat.chisquare(observed, expected)\n",
    "\n",
    "# do chi squared for Food\n",
    "observed = [topics_by_gender['male']['food'], topics_by_gender['female']['food']]\n",
    "expected = [gender['male'] * topic_series['food'], gender['female'] * topic_series['food']]\n",
    "print \"Food: \", stat.chisquare(observed, expected)\n",
    "\n",
    "# do chi squared for Health\n",
    "observed = [topics_by_gender['male']['health'], topics_by_gender['female']['health']]\n",
    "expected = [gender['male'] * topic_series['health'], gender['female'] * topic_series['health']]\n",
    "print \"Health: \", stat.chisquare(observed, expected)\n",
    "\n",
    "# do chi squared for Cannabis\n",
    "observed = [topics_by_gender['male']['cannabis'], topics_by_gender['female']['cannabis']]\n",
    "expected = [gender['male'] * topic_series['cannabis'], gender['female'] * topic_series['cannabis']]\n",
    "print \"Cannabis: \", stat.chisquare(observed, expected)"
   ]
  },
  {
   "cell_type": "markdown",
   "metadata": {},
   "source": [
    "**What does this mean?**\n",
    "The test statistic shows overall how close the observed and expected distributions were. The p-value shows the probability that the observed distribution was due to chance and the values are in fact independent. You can see all of the p-values are <.01 or 1%, meaning these distributions of male and female are likely not due to chance."
   ]
  },
  {
   "cell_type": "markdown",
   "metadata": {},
   "source": [
    "## Diving in further to \"tech\" sessions\n",
    "What does the gender distribution look like for tech_general, high_tech, ai and vr?"
   ]
  },
  {
   "cell_type": "code",
   "execution_count": 12,
   "metadata": {},
   "outputs": [
    {
     "data": {
      "text/plain": [
       "<matplotlib.axes._subplots.AxesSubplot at 0x10ac06510>"
      ]
     },
     "execution_count": 12,
     "metadata": {},
     "output_type": "execute_result"
    },
    {
     "data": {
      "image/png": "[encoded data removed]",
      "text/plain": [
       "<matplotlib.figure.Figure at 0x10acea9d0>"
      ]
     },
     "metadata": {},
     "output_type": "display_data"
    }
   ],
   "source": [
    "tech_data = topics_by_gender.ix[['tech_general', 'high_tech', 'ai','vr','social','data','design']]\n",
    "tech_data.plot(kind = 'bar',y=['perc_male','perc_female'], title = \"Percentage Distribution of Genders Across Tech Topics\",\n",
    "              color = my_colors)"
   ]
  },
  {
   "cell_type": "code",
   "execution_count": 13,
   "metadata": {},
   "outputs": [
    {
     "name": "stdout",
     "output_type": "stream",
     "text": [
      "Calculating Odds Ratio - A talk about 'topic' is X more likely to be male than females\n",
      "topic\n",
      "tech_general    1.031955\n",
      "high_tech       1.429448\n",
      "ai              1.271845\n",
      "vr              1.500000\n",
      "social          0.816609\n",
      "data            0.948718\n",
      "design          0.862069\n",
      "dtype: float64\n",
      "Calculating Odds Ratio - A talk about 'topic' is X more likely to be female than male\n",
      "topic\n",
      "tech_general    0.969035\n",
      "high_tech       0.699571\n",
      "ai              0.786260\n",
      "vr              0.666667\n",
      "social          1.224576\n",
      "data            1.054054\n",
      "design          1.160000\n",
      "dtype: float64\n"
     ]
    }
   ],
   "source": [
    "print \"Calculating Odds Ratio - A talk about 'topic' is X more likely to be male than females\"\n",
    "print tech_data['perc_male'] / tech_data['perc_female']\n",
    "\n",
    "print \"Calculating Odds Ratio - A talk about 'topic' is X more likely to be female than male\"\n",
    "print tech_data['perc_female'] / tech_data['perc_male']"
   ]
  },
  {
   "cell_type": "code",
   "execution_count": 14,
   "metadata": {},
   "outputs": [
    {
     "data": {
      "text/plain": [
       "<matplotlib.axes._subplots.AxesSubplot at 0x1101e5d10>"
      ]
     },
     "execution_count": 14,
     "metadata": {},
     "output_type": "execute_result"
    },
    {
     "data": {
      "image/png": "[encoded data removed]",
      "text/plain": [
       "<matplotlib.figure.Figure at 0x10ad110d0>"
      ]
     },
     "metadata": {},
     "output_type": "display_data"
    }
   ],
   "source": [
    "# Of all the topics that are labeled as tech general, and are given by females, what is the distribution of what\n",
    "# the tech topic is actually about?\n",
    "\n",
    "tech_general_split_female = sxsw_data[(sxsw_data['tech_general'] == True) & (sxsw_data['gender'] == 'female')].mean()\n",
    "tech_general_split_female = tech_general_split_female.drop('tech_general')\n",
    "tech_general_split_female.plot(kind = 'bar')"
   ]
  },
  {
   "cell_type": "code",
   "execution_count": 15,
   "metadata": {},
   "outputs": [
    {
     "data": {
      "text/plain": [
       "<matplotlib.axes._subplots.AxesSubplot at 0x11025c090>"
      ]
     },
     "execution_count": 15,
     "metadata": {},
     "output_type": "execute_result"
    },
    {
     "data": {
      "image/png": "[encoded data removed]",
      "text/plain": [
       "<matplotlib.figure.Figure at 0x1101d6410>"
      ]
     },
     "metadata": {},
     "output_type": "display_data"
    }
   ],
   "source": [
    "# Of all the topics that are labeled as tech general, and are given by males, what is the distribution of what\n",
    "# the tech topic is actually about?\n",
    "\n",
    "tech_general_split_male = sxsw_data[(sxsw_data['tech_general'] == True) & (sxsw_data['gender'] == 'male')].mean()\n",
    "tech_general_split_male = tech_general_split_male.drop('tech_general')\n",
    "tech_general_split_male.plot(kind = 'bar')"
   ]
  },
  {
   "cell_type": "markdown",
   "metadata": {
    "collapsed": true
   },
   "source": [
    "## When men speak on the topic of \"women\", what do they talk about?\n",
    "Approximately 71% of sessions on the topic of women, are done by women. Is this fairly intuitive, or is this a signal of the continued imbalance of those who care about female empowerment contuining to be women? "
   ]
  },
  {
   "cell_type": "code",
   "execution_count": 16,
   "metadata": {},
   "outputs": [
    {
     "data": {
      "text/plain": [
       "100                       Crave Build-A-Vibrator Workshop\n",
       "112               How to Fundraise Without Silicon Valley\n",
       "166     Harnessing Today’s Innovation Culture for Uncl...\n",
       "202                           Diversity-Friendly Software\n",
       "312     Safe Space to Rock: Combating Harassment in Music\n",
       "601      Black Valley: Increasing Tech Internships & Jobs\n",
       "826     Funding Our Future: Investing in Diverse Startups\n",
       "875                   Empowering Women's Health with FHIR\n",
       "1188    What To Do With Gender Norms & Entertainment M...\n",
       "1317    Art + Science: Videos That Inform, Inspire & S...\n",
       "1642    Funding Our Future: Investing in Diverse Startups\n",
       "1902    Treat Your Film as a Startup: Ladies Who Hacke...\n",
       "2303                           Elephant on Madison Avenue\n",
       "2360    Harnessing Today’s Innovation Culture for Uncl...\n",
       "2484    Badass Buying Power: The Rise of Millennial Women\n",
       "2841           101 on Women's Health: More Than Fertility\n",
       "2923    Safe Space to Rock: Combating Harassment in Music\n",
       "3041                             Why Women in Tech Matter\n",
       "3168    Harnessing Today’s Innovation Culture for Uncl...\n",
       "Name: session_title, dtype: object"
      ]
     },
     "execution_count": 16,
     "metadata": {},
     "output_type": "execute_result"
    }
   ],
   "source": [
    "men_talk_women = sxsw_data[(sxsw_data['women'] == True) & (sxsw_data['gender'] == 'male')]\n",
    "men_talk_women['session_title']"
   ]
  },
  {
   "cell_type": "code",
   "execution_count": null,
   "metadata": {
    "collapsed": true
   },
   "outputs": [],
   "source": []
  }
 ],
 "metadata": {
  "kernelspec": {
   "display_name": "Python 3",
   "language": "python",
   "name": "python3"
  },
  "language_info": {
   "codemirror_mode": {
    "name": "ipython",
    "version": 3
   },
   "file_extension": ".py",
   "mimetype": "text/x-python",
   "name": "python",
   "nbconvert_exporter": "python",
   "pygments_lexer": "ipython3",
   "version": "3.6.1"
  }
 },
 "nbformat": 4,
 "nbformat_minor": 2
}
